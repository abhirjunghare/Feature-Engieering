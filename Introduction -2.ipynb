{
 "cells": [
  {
   "cell_type": "markdown",
   "metadata": {},
   "source": [
    "# One Hot Encoding & Dummy Variables | Categorical Variable Encoding"
   ]
  },
  {
   "cell_type": "markdown",
   "metadata": {},
   "source": [
    "Machine Learning algorithm cant work on categorical data so we have to encode categorical variables in a numerical format and in this blog we working on one-hot encoding and dummy variables"
   ]
  },
  {
   "cell_type": "markdown",
   "metadata": {},
   "source": [
    "# Best 6 Methods To Handling Missing Values/Data Smartly – Data Cleaning"
   ]
  },
  {
   "cell_type": "markdown",
   "metadata": {},
   "source": [
    "Data is a powerful weapon to handle the world on the finger. As you know Customer is the king of business but customer’s data is the god of the customer and if you have customer’s god in your database then you can handle customers according to you. It is the truth.\n",
    "\n",
    "Now let’s talk about data cleaning, In this tutorial, we are working on How to handle missing values or data by different methods to make Machine Learning model powerful to provide an accurate prediction."
   ]
  },
  {
   "cell_type": "markdown",
   "metadata": {},
   "source": [
    "What are the Methods to Handle Missing Values/Data?\n",
    "\n",
    "In general, there are the best 6 methods to handle missing data or values. It is the part of Data Preprocessing and this is the most important step to build Machine Learning/Data Science project. The following are the most popular methods to handle missing data.\n",
    "\n",
    "•Ignore missing values row / Delete row\n",
    "\n",
    "•Fill missing value manually\n",
    "\n",
    "•Use global constant\n",
    "\n",
    "•Measure of central tendency (Mean, Median & Mode)\n",
    "\n",
    "•Measure of central tendency for each class\n",
    "\n",
    "•Most probable value ( ML Algorithms)"
   ]
  }
 ],
 "metadata": {
  "kernelspec": {
   "display_name": "Python 3",
   "language": "python",
   "name": "python3"
  },
  "language_info": {
   "codemirror_mode": {
    "name": "ipython",
    "version": 3
   },
   "file_extension": ".py",
   "mimetype": "text/x-python",
   "name": "python",
   "nbconvert_exporter": "python",
   "pygments_lexer": "ipython3",
   "version": "3.8.5"
  }
 },
 "nbformat": 4,
 "nbformat_minor": 4
}
