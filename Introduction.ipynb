{
 "cells": [
  {
   "cell_type": "markdown",
   "metadata": {},
   "source": [
    "# Label Encoding Vs Ordinal Encoding | Categorical Variable Encoding"
   ]
  },
  {
   "cell_type": "markdown",
   "metadata": {},
   "source": [
    "What is Ordinal Variables?\n",
    "\n",
    "•Ordinal variables are categorical variables in which the categories can be meaningfully ordered.\n",
    "\n",
    "•When the ordinal variable convert into the number then it has mathematical value.\n",
    "\n",
    "•Ex. Rating of product"
   ]
  },
  {
   "cell_type": "markdown",
   "metadata": {},
   "source": [
    "What is Nominal Variables?\n",
    "\n",
    "•Nominal variable is same like ordinal  variable but there is nothing that indicates an intrinsic order of the labels and in principle.\n",
    "\n",
    "•All labels are equal no order.\n",
    "\n",
    "•No mathematical value\n",
    "\n",
    "•Ex. Colour: Red, Green, White, Black"
   ]
  },
  {
   "cell_type": "markdown",
   "metadata": {},
   "source": [
    "Label Encoding vs Ordinal Encoding\n",
    "\n",
    "•Label Encoding apply on ordinal and nominal categorical variables.\n",
    "\n",
    "•Ordinal Encoding apply on ordinal categorical variables."
   ]
  },
  {
   "cell_type": "markdown",
   "metadata": {},
   "source": [
    "# Feature Scaling – Standardization Vs Normalization Explain In Detail"
   ]
  },
  {
   "cell_type": "markdown",
   "metadata": {},
   "source": [
    "What is Feature Scaling?\n",
    "\n",
    "•Feature Scaling is a method to scale numeric features in the same scale or range (like:-1 to 1,  0 to 1).\n",
    "\n",
    "•This is the last step involved in Data Preprocessing and before ML model training.\n",
    "\n",
    "•It is also called as data normalization.\n",
    "\n",
    "•We apply Feature Scaling on independent variables.\n",
    "\n",
    "•We fit feature scaling with train data and transform on train and test data."
   ]
  },
  {
   "cell_type": "markdown",
   "metadata": {},
   "source": [
    "Why Feature Scaling?\n",
    "\n",
    "•The scale of raw features is different according to its units.\n",
    "\n",
    "•Machine Learning algorithms can’t understand features units, understand only numbers.\n",
    "\n",
    "•Ex: If hight 140cm and 8.2feet\n",
    "\n",
    "•ML Algorithms understand numbers then 140 > 8.2"
   ]
  },
  {
   "cell_type": "markdown",
   "metadata": {},
   "source": [
    "Which ML Algorithms Required Feature Scaling?\n",
    "\n",
    "Those Algorithms Calculate Distance\n",
    "•K-Nearest Neighbors (KNN)\n",
    "\n",
    "•K-Means\n",
    "\n",
    "•Support Vector Machine (SVM)\n",
    "\n",
    "•Principal Component Analysis(PCA)\n",
    "\n",
    "•Linear Discriminant Analysis\n",
    "\n",
    "Gradient Descent Based Algorithms\n",
    "•Linear Regression,\n",
    "\n",
    "•Logistic Regression\n",
    "\n",
    "•Neural Network\n",
    "\n",
    "Tree Based Algorithms not required Feature scaling\n",
    "\n",
    "•Decision Tree, Random Forest, XGBoost"
   ]
  },
  {
   "cell_type": "markdown",
   "metadata": {},
   "source": [
    "Types of Feature Scaling\n",
    "\n",
    "•1) Min Max Scaler\n",
    "\n",
    "•2) Standard Scaler\n",
    "\n",
    "•3) Max Abs Scaler\n",
    "\n",
    "•4) Robust Scaler\n",
    "\n",
    "•5) Quantile Transformer Scaler\n",
    "\n",
    "•6) Power Transformer Scaler\n",
    "\n",
    "•7) Unit Vector Scaler"
   ]
  },
  {
   "cell_type": "markdown",
   "metadata": {},
   "source": [
    "# Standardization vs Normalization Explain in Detail"
   ]
  },
  {
   "cell_type": "markdown",
   "metadata": {},
   "source": [
    "What is Standardization?\n",
    "\n",
    "•Standardization rescale the feature such as mean(μ) = 0 and standard deviation (σ) = 1.\n",
    "\n",
    "•The result of standardization is Z called as Z-score normalization.\n",
    "\n",
    "• If data follow a normal distribution (gaussian distribution).\n",
    "\n",
    "• If the original distribution is normal, then the standardized distribution will be normal.\n",
    "\n",
    "• If the original distribution is skewed, then the standardized distribution of the variable will also be skewed."
   ]
  },
  {
   "cell_type": "markdown",
   "metadata": {},
   "source": [
    "What is Normalization?\n",
    "\n",
    "•Normalization rescale the feature in fixed range between 0 to 1.\n",
    "\n",
    "•Normalization also called as Min-Max Scaling.\n",
    "\n",
    "•If data doesn’t follow normal distribution (Gaussian distribution)."
   ]
  },
  {
   "cell_type": "markdown",
   "metadata": {},
   "source": [
    "Standardization  vs Normalization\n",
    "\n",
    "•There is no any thumb rule to use Standardization or Normalization for special ML algo.\n",
    "\n",
    "•But mostly Standardization use for clustering analyses, Principal Component Analysis(PCA).\n",
    "\n",
    "•Normalization prefers for Image processing because of pixel intensity between 0 to 255, neural network algorithm requires data in scale 0-1, K-Nearest Neighbors."
   ]
  },
  {
   "cell_type": "code",
   "execution_count": null,
   "metadata": {},
   "outputs": [],
   "source": []
  }
 ],
 "metadata": {
  "kernelspec": {
   "display_name": "Python 3",
   "language": "python",
   "name": "python3"
  },
  "language_info": {
   "codemirror_mode": {
    "name": "ipython",
    "version": 3
   },
   "file_extension": ".py",
   "mimetype": "text/x-python",
   "name": "python",
   "nbconvert_exporter": "python",
   "pygments_lexer": "ipython3",
   "version": "3.8.5"
  }
 },
 "nbformat": 4,
 "nbformat_minor": 4
}
